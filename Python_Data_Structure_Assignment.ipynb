{
  "cells": [
    {
      "cell_type": "markdown",
      "metadata": {
        "id": "view-in-github",
        "colab_type": "text"
      },
      "source": [
        "<a href=\"https://colab.research.google.com/github/Advait019/G-Collab/blob/main/Python_Data_Structure_Assignment.ipynb\" target=\"_parent\"><img src=\"https://colab.research.google.com/assets/colab-badge.svg\" alt=\"Open In Colab\"/></a>"
      ]
    },
    {
      "cell_type": "markdown",
      "metadata": {
        "id": "jGxqF4aIjNSq"
      },
      "source": [
        "<a id='1'></a><center> <h3 style=\"background-color:orange; color:white\" ><br>Python Data Structures<br></h3>"
      ],
      "id": "jGxqF4aIjNSq"
    },
    {
      "cell_type": "markdown",
      "metadata": {
        "id": "Kk7KNIBPUA-0"
      },
      "source": [
        "# `Types of Data Structures:`\n",
        "* `List` | `Tuple`\n",
        "* `Set` | `Dictionary`"
      ],
      "id": "Kk7KNIBPUA-0"
    },
    {
      "cell_type": "markdown",
      "metadata": {
        "id": "AobnaOlTUA-1"
      },
      "source": [
        "|Data Structures type|Mutable|Comments|Indexing|Ordered|Duplicacy|\n",
        "|----|----|----|----|----|----|\n",
        "tuple ()|immutable|immutable version of list| possible|yes |allowed |\n",
        "list []|mutable|-|possible |yes | allowed |\n",
        "set {}|mutable| -|not |no |not |\n",
        "dict {key:value}|mutable|-|possible |no |not  |"
      ],
      "id": "AobnaOlTUA-1"
    },
    {
      "cell_type": "markdown",
      "metadata": {
        "id": "9hM4zvgDUA-2"
      },
      "source": [
        "💫 `immutable` => `can't be changed` <br>\n",
        "💫 `mutable` => `can be changed`"
      ],
      "id": "9hM4zvgDUA-2"
    },
    {
      "cell_type": "code",
      "execution_count": null,
      "metadata": {
        "id": "XujUtHseUA-3"
      },
      "outputs": [],
      "source": [],
      "id": "XujUtHseUA-3"
    },
    {
      "cell_type": "code",
      "source": [],
      "metadata": {
        "id": "onBxcWEgSG29"
      },
      "id": "onBxcWEgSG29",
      "execution_count": null,
      "outputs": []
    },
    {
      "cell_type": "markdown",
      "metadata": {
        "id": "Tyavi31ZjNSw"
      },
      "source": [
        "## Lists\n",
        "\n"
      ],
      "id": "Tyavi31ZjNSw"
    },
    {
      "cell_type": "markdown",
      "metadata": {
        "id": "tkDQdRdUjNSy"
      },
      "source": [
        "### Create an empty list with the name ‘a’, print the value of a and type(a).\n"
      ],
      "id": "tkDQdRdUjNSy"
    },
    {
      "cell_type": "code",
      "execution_count": 1,
      "metadata": {
        "id": "a6i4yNGvjNSz"
      },
      "outputs": [],
      "source": [
        "# create empty list, name it 'a'\n",
        "a=[]"
      ],
      "id": "a6i4yNGvjNSz"
    },
    {
      "cell_type": "markdown",
      "source": [],
      "metadata": {
        "id": "ed71NNIr-Y6z"
      },
      "id": "ed71NNIr-Y6z"
    },
    {
      "cell_type": "code",
      "execution_count": 2,
      "metadata": {
        "id": "M8FMNQEgjNS0",
        "colab": {
          "base_uri": "https://localhost:8080/"
        },
        "outputId": "5b046730-e549-48cc-b78c-f02810804c28"
      },
      "outputs": [
        {
          "output_type": "execute_result",
          "data": {
            "text/plain": [
              "[]"
            ]
          },
          "metadata": {},
          "execution_count": 2
        }
      ],
      "source": [
        "# print the value of a\n",
        "a\n"
      ],
      "id": "M8FMNQEgjNS0"
    },
    {
      "cell_type": "code",
      "execution_count": 4,
      "metadata": {
        "id": "Jfc9sg1vjNS1",
        "colab": {
          "base_uri": "https://localhost:8080/"
        },
        "outputId": "4028b43f-efc6-4fb1-c243-7bb95661dcdd"
      },
      "outputs": [
        {
          "output_type": "stream",
          "name": "stdout",
          "text": [
            "<class 'list'>\n"
          ]
        }
      ],
      "source": [
        "# print the type of a\n",
        "print(type(a))"
      ],
      "id": "Jfc9sg1vjNS1"
    },
    {
      "cell_type": "markdown",
      "metadata": {
        "id": "UNpN9_w4jNS1"
      },
      "source": [
        "### Create a list , languages = ['R','Python', 'SAS', 'Scala', 42],"
      ],
      "id": "UNpN9_w4jNS1"
    },
    {
      "cell_type": "code",
      "execution_count": 2,
      "metadata": {
        "id": "x-TG-vc5jNS2"
      },
      "outputs": [],
      "source": [
        "languages=['R','Python','SAS','Scala',42]"
      ],
      "id": "x-TG-vc5jNS2"
    },
    {
      "cell_type": "markdown",
      "metadata": {
        "id": "JDSIK8TbjNS3"
      },
      "source": [
        "Print the number of elements in the list"
      ],
      "id": "JDSIK8TbjNS3"
    },
    {
      "cell_type": "code",
      "execution_count": 3,
      "metadata": {
        "id": "C4lBMaM8jNS3",
        "colab": {
          "base_uri": "https://localhost:8080/"
        },
        "outputId": "56abb96f-2dc6-40fd-d2fd-61da17baf259"
      },
      "outputs": [
        {
          "output_type": "stream",
          "name": "stdout",
          "text": [
            "['R', 'Python', 'SAS', 'Scala', 42]\n"
          ]
        }
      ],
      "source": [
        "print(languages)"
      ],
      "id": "C4lBMaM8jNS3"
    },
    {
      "cell_type": "markdown",
      "metadata": {
        "id": "EyzO_pcnjNS3"
      },
      "source": [
        "Using for loop iterate and print all the elements in the list"
      ],
      "id": "EyzO_pcnjNS3"
    },
    {
      "cell_type": "code",
      "execution_count": 7,
      "metadata": {
        "id": "TyM54ydsjNS4",
        "colab": {
          "base_uri": "https://localhost:8080/"
        },
        "outputId": "cae5bb42-5422-4aa7-9917-883b9b4246f4"
      },
      "outputs": [
        {
          "output_type": "stream",
          "name": "stdout",
          "text": [
            "R\n",
            "Python\n",
            "SAS\n",
            "Scala\n",
            "42\n"
          ]
        }
      ],
      "source": [
        "\n",
        "for i in languages:\n",
        "  print(i)\n"
      ],
      "id": "TyM54ydsjNS4"
    },
    {
      "cell_type": "markdown",
      "metadata": {
        "id": "eC1fqz9LjNS4"
      },
      "source": [
        "Select the second item, 'Python' and store it in a new variable named 'temp'"
      ],
      "id": "eC1fqz9LjNS4"
    },
    {
      "cell_type": "code",
      "source": [
        "temp=languages[1]"
      ],
      "metadata": {
        "id": "SCFuUG1ufam0"
      },
      "id": "SCFuUG1ufam0",
      "execution_count": 10,
      "outputs": []
    },
    {
      "cell_type": "code",
      "execution_count": null,
      "metadata": {
        "id": "KY0KhRlOjNS4"
      },
      "outputs": [],
      "source": [],
      "id": "KY0KhRlOjNS4"
    },
    {
      "cell_type": "markdown",
      "metadata": {
        "id": "breORMa_jNS4"
      },
      "source": [
        "Print the value of temp and type(temp)"
      ],
      "id": "breORMa_jNS4"
    },
    {
      "cell_type": "code",
      "execution_count": 11,
      "metadata": {
        "id": "MbvX2aIgjNS5",
        "colab": {
          "base_uri": "https://localhost:8080/"
        },
        "outputId": "b4b32b12-61fb-4a37-ec21-2dfbb9bb3bf0"
      },
      "outputs": [
        {
          "output_type": "stream",
          "name": "stdout",
          "text": [
            "Python\n",
            "<class 'str'>\n"
          ]
        }
      ],
      "source": [
        "\n",
        "print(temp)\n",
        "print(type(temp))"
      ],
      "id": "MbvX2aIgjNS5"
    },
    {
      "cell_type": "markdown",
      "metadata": {
        "id": "I4MrKlAUjNS5"
      },
      "source": [
        "Append the element 'Java' in the list"
      ],
      "id": "I4MrKlAUjNS5"
    },
    {
      "cell_type": "code",
      "execution_count": 7,
      "metadata": {
        "id": "rOtqZY6PjNS6",
        "colab": {
          "base_uri": "https://localhost:8080/"
        },
        "outputId": "3f13f76a-230c-46b4-9b04-f38a1c712255"
      },
      "outputs": [
        {
          "output_type": "execute_result",
          "data": {
            "text/plain": [
              "['R', 'Python', 'SAS', 'Scala', 42, 'Java ', 'Java ', 'Java ']"
            ]
          },
          "metadata": {},
          "execution_count": 7
        }
      ],
      "source": [
        "languages.append('Java ')\n",
        "languages"
      ],
      "id": "rOtqZY6PjNS6"
    },
    {
      "cell_type": "markdown",
      "metadata": {
        "id": "ksEn8qvFjNS6"
      },
      "source": [
        "Remove the element 42 from the list and print the list"
      ],
      "id": "ksEn8qvFjNS6"
    },
    {
      "cell_type": "code",
      "execution_count": 15,
      "metadata": {
        "id": "Lxuzfc1bjNS6",
        "colab": {
          "base_uri": "https://localhost:8080/"
        },
        "outputId": "773c7112-9e73-4ab9-9332-444ff720befc"
      },
      "outputs": [
        {
          "output_type": "execute_result",
          "data": {
            "text/plain": [
              "['R', 'Python', 'SAS', 'Scala', 'Java']"
            ]
          },
          "metadata": {},
          "execution_count": 15
        }
      ],
      "source": [
        "languages.remove(42)\n",
        "languages"
      ],
      "id": "Lxuzfc1bjNS6"
    },
    {
      "cell_type": "markdown",
      "metadata": {
        "id": "19MjI0w6jNS6"
      },
      "source": [
        "### Create a list, colors = [‘Red’, ‘Blue’, ‘White’]"
      ],
      "id": "19MjI0w6jNS6"
    },
    {
      "cell_type": "code",
      "execution_count": 16,
      "metadata": {
        "id": "Z1lMzdbWjNS7",
        "colab": {
          "base_uri": "https://localhost:8080/"
        },
        "outputId": "abc396c6-a752-4207-8156-9a4491bbcc90"
      },
      "outputs": [
        {
          "output_type": "execute_result",
          "data": {
            "text/plain": [
              "['Red', 'Blue', 'White']"
            ]
          },
          "metadata": {},
          "execution_count": 16
        }
      ],
      "source": [
        "colors=['Red','Blue','White']\n",
        "colors"
      ],
      "id": "Z1lMzdbWjNS7"
    },
    {
      "cell_type": "markdown",
      "metadata": {
        "id": "VAqLj5R3jNS7"
      },
      "source": [
        "Append the element 'Black' to colors"
      ],
      "id": "VAqLj5R3jNS7"
    },
    {
      "cell_type": "code",
      "execution_count": 17,
      "metadata": {
        "id": "gvb5iC7ljNS7",
        "colab": {
          "base_uri": "https://localhost:8080/"
        },
        "outputId": "4ab61876-b409-4ea6-8f2c-fcb6d9315994"
      },
      "outputs": [
        {
          "output_type": "execute_result",
          "data": {
            "text/plain": [
              "['Red', 'Blue', 'White', 'Black']"
            ]
          },
          "metadata": {},
          "execution_count": 17
        }
      ],
      "source": [
        "\n",
        "colors.append('Black')\n",
        "colors"
      ],
      "id": "gvb5iC7ljNS7"
    },
    {
      "cell_type": "markdown",
      "metadata": {
        "id": "MFWIzVcvjNS7"
      },
      "source": [
        "Append the color 'Orange' to second position (index=1) and print the list"
      ],
      "id": "MFWIzVcvjNS7"
    },
    {
      "cell_type": "code",
      "execution_count": 23,
      "metadata": {
        "id": "Fb6YZDSNjNS8",
        "colab": {
          "base_uri": "https://localhost:8080/"
        },
        "outputId": "dcac1831-e100-4b21-fa5f-02cfc783add0"
      },
      "outputs": [
        {
          "output_type": "execute_result",
          "data": {
            "text/plain": [
              "['Red', 'orange', 'Blue', 'White', 'Black']"
            ]
          },
          "metadata": {},
          "execution_count": 23
        }
      ],
      "source": [
        "colors.insert(1, 'orange')\n",
        "colors\n",
        "\n"
      ],
      "id": "Fb6YZDSNjNS8"
    },
    {
      "cell_type": "markdown",
      "metadata": {
        "id": "8DWB76AOjNS8"
      },
      "source": [
        "Print the list\n"
      ],
      "id": "8DWB76AOjNS8"
    },
    {
      "cell_type": "code",
      "execution_count": 24,
      "metadata": {
        "id": "0ldkGCozjNS8",
        "colab": {
          "base_uri": "https://localhost:8080/"
        },
        "outputId": "fb4ae9f5-ef52-4c7a-c987-2fa4647403ef"
      },
      "outputs": [
        {
          "output_type": "stream",
          "name": "stdout",
          "text": [
            "['Red', 'orange', 'Blue', 'White', 'Black']\n"
          ]
        }
      ],
      "source": [
        "print(colors)"
      ],
      "id": "0ldkGCozjNS8"
    },
    {
      "cell_type": "markdown",
      "metadata": {
        "id": "WfFfxvLKjNS8"
      },
      "source": [
        "Create another list, colors2 = [‘Grey’, ‘Sky Blue’]"
      ],
      "id": "WfFfxvLKjNS8"
    },
    {
      "cell_type": "code",
      "execution_count": 26,
      "metadata": {
        "id": "onZEiwdUjNS8",
        "colab": {
          "base_uri": "https://localhost:8080/"
        },
        "outputId": "53872991-1c23-4ec1-a7fa-176b0c648af2"
      },
      "outputs": [
        {
          "output_type": "execute_result",
          "data": {
            "text/plain": [
              "['Grey', 'Sky Blue']"
            ]
          },
          "metadata": {},
          "execution_count": 26
        }
      ],
      "source": [
        "colors2=['Grey','Sky Blue']\n",
        "colors2"
      ],
      "id": "onZEiwdUjNS8"
    },
    {
      "cell_type": "markdown",
      "metadata": {
        "id": "MrNQk6uKjNS8"
      },
      "source": [
        "Add the elements of colors2 to colors using extend function in the list"
      ],
      "id": "MrNQk6uKjNS8"
    },
    {
      "cell_type": "code",
      "execution_count": 27,
      "metadata": {
        "id": "Hr1Eu88OjNS9",
        "colab": {
          "base_uri": "https://localhost:8080/"
        },
        "outputId": "5ae25272-ee15-4fa9-b158-987d72a5fdc3"
      },
      "outputs": [
        {
          "output_type": "execute_result",
          "data": {
            "text/plain": [
              "['Red', 'orange', 'Blue', 'White', 'Black', 'Grey', 'Sky Blue']"
            ]
          },
          "metadata": {},
          "execution_count": 27
        }
      ],
      "source": [
        "colors.extend(colors2)\n",
        "colors"
      ],
      "id": "Hr1Eu88OjNS9"
    },
    {
      "cell_type": "markdown",
      "metadata": {
        "id": "u0KDeU20jNS9"
      },
      "source": [
        "Print len of colors and its elements"
      ],
      "id": "u0KDeU20jNS9"
    },
    {
      "cell_type": "code",
      "execution_count": 31,
      "metadata": {
        "id": "bnBmsCg2jNS9",
        "colab": {
          "base_uri": "https://localhost:8080/"
        },
        "outputId": "2dbc8a3e-d931-4d6c-cf5f-b12d07779913"
      },
      "outputs": [
        {
          "output_type": "stream",
          "name": "stdout",
          "text": [
            "7\n",
            "['Red', 'orange', 'Blue', 'White', 'Black', 'Grey', 'Sky Blue']\n"
          ]
        }
      ],
      "source": [
        "print(len(colors))\n",
        "print(colors)\n",
        "\n",
        "\n"
      ],
      "id": "bnBmsCg2jNS9"
    },
    {
      "cell_type": "markdown",
      "metadata": {
        "id": "vJ7YqokSjNS9"
      },
      "source": [
        "Sort the list and print it."
      ],
      "id": "vJ7YqokSjNS9"
    },
    {
      "cell_type": "code",
      "execution_count": 32,
      "metadata": {
        "id": "X14C-1PtjNS9",
        "colab": {
          "base_uri": "https://localhost:8080/"
        },
        "outputId": "0cd98620-235b-4063-b2c2-88d3f4d8ca29"
      },
      "outputs": [
        {
          "output_type": "execute_result",
          "data": {
            "text/plain": [
              "['Black', 'Blue', 'Grey', 'Red', 'Sky Blue', 'White', 'orange']"
            ]
          },
          "metadata": {},
          "execution_count": 32
        }
      ],
      "source": [
        "\n",
        "colors.sort()\n",
        "colors"
      ],
      "id": "X14C-1PtjNS9"
    },
    {
      "cell_type": "markdown",
      "metadata": {
        "id": "MdN5B9F9jNS-"
      },
      "source": [
        "### Create a string, sent = ‘Coronavirus Caused Lockdowns Around The World.”"
      ],
      "id": "MdN5B9F9jNS-"
    },
    {
      "cell_type": "code",
      "execution_count": 33,
      "metadata": {
        "id": "j4JUR085jNS-",
        "colab": {
          "base_uri": "https://localhost:8080/",
          "height": 36
        },
        "outputId": "66703c1f-7f0a-419a-9896-e39aac09787d"
      },
      "outputs": [
        {
          "output_type": "execute_result",
          "data": {
            "text/plain": [
              "'Coronavirus Caused Lockdowns Around The World.'"
            ],
            "application/vnd.google.colaboratory.intrinsic+json": {
              "type": "string"
            }
          },
          "metadata": {},
          "execution_count": 33
        }
      ],
      "source": [
        "sent='Coronavirus Caused Lockdowns Around The World.'\n",
        "sent"
      ],
      "id": "j4JUR085jNS-"
    },
    {
      "cell_type": "markdown",
      "metadata": {
        "id": "rcn18drOjNS-"
      },
      "source": [
        "Use split function to convert the string into a list of words and save it in variable words and print the same"
      ],
      "id": "rcn18drOjNS-"
    },
    {
      "cell_type": "code",
      "execution_count": 34,
      "metadata": {
        "id": "fjiKSboajNS-",
        "colab": {
          "base_uri": "https://localhost:8080/",
          "height": 36
        },
        "outputId": "b67fc341-7dec-43fd-9cbe-0f2a0a87328a"
      },
      "outputs": [
        {
          "output_type": "execute_result",
          "data": {
            "text/plain": [
              "'Coronavirus Caused Lockdowns Around The World.'"
            ],
            "application/vnd.google.colaboratory.intrinsic+json": {
              "type": "string"
            }
          },
          "metadata": {},
          "execution_count": 34
        }
      ],
      "source": [
        "sent.split()\n",
        "sent\n",
        "\n"
      ],
      "id": "fjiKSboajNS-"
    },
    {
      "cell_type": "markdown",
      "metadata": {
        "id": "rowxhN26jNS_"
      },
      "source": [
        "Convert each word in the list to lower case and store it in variable words_lower.\n",
        "Print words_lower"
      ],
      "id": "rowxhN26jNS_"
    },
    {
      "cell_type": "code",
      "execution_count": 64,
      "metadata": {
        "id": "LuzAECOVjNS_",
        "colab": {
          "base_uri": "https://localhost:8080/"
        },
        "outputId": "88180528-51de-408f-f7df-e95b89099984"
      },
      "outputs": [
        {
          "output_type": "stream",
          "name": "stdout",
          "text": [
            "coronavirus caused lockdowns around the world.\n"
          ]
        }
      ],
      "source": [
        "words_lower=sent.lower()\n",
        "print(words_lower)\n",
        "\n"
      ],
      "id": "LuzAECOVjNS_"
    },
    {
      "cell_type": "markdown",
      "metadata": {
        "id": "zznwP-l9jNS_"
      },
      "source": [
        "Check whether ‘country’ is in the list"
      ],
      "id": "zznwP-l9jNS_"
    },
    {
      "cell_type": "code",
      "execution_count": 41,
      "metadata": {
        "id": "y-U1felnjNS_",
        "colab": {
          "base_uri": "https://localhost:8080/"
        },
        "outputId": "0a3b68eb-40c3-476f-e9e1-1a38e17fc969"
      },
      "outputs": [
        {
          "output_type": "stream",
          "name": "stdout",
          "text": [
            "No, The word is not present in the list\n"
          ]
        }
      ],
      "source": [
        "\n",
        "if i=='country':\n",
        "    print('Yes, The word is present in the list')\n",
        "\n",
        "else:\n",
        "    print('No, The word is not present in the list')"
      ],
      "id": "y-U1felnjNS_"
    },
    {
      "cell_type": "markdown",
      "metadata": {
        "id": "AZMvSVKWjNS_"
      },
      "source": [
        "Remove the element ‘the’ from the list and print the list."
      ],
      "id": "AZMvSVKWjNS_"
    },
    {
      "cell_type": "code",
      "execution_count": 78,
      "metadata": {
        "id": "bmDbpYd7jNS_"
      },
      "outputs": [],
      "source": [
        "\n",
        "words_lower = [word.lower() for word in words_lower]  # Recreate words_lower as a list\n",
        "\n",
        "if 'the' in words_lower:\n",
        "    words_lower.remove('the')\n",
        "    print(words_lower)\n",
        "#else:\n",
        " #   print(\"'the' is not in the list\")\n"
      ],
      "id": "bmDbpYd7jNS_"
    },
    {
      "cell_type": "markdown",
      "metadata": {
        "id": "int3gJc0jNS_"
      },
      "source": [
        "Select the first 4 words from the list words_lower using slicing and store them in a new variable x4"
      ],
      "id": "int3gJc0jNS_"
    },
    {
      "cell_type": "code",
      "execution_count": 72,
      "metadata": {
        "id": "fXOJmYI1jNTA"
      },
      "outputs": [],
      "source": [
        "new_variable=words_lower[:4]\n",
        "x4=new_variable"
      ],
      "id": "fXOJmYI1jNTA"
    },
    {
      "cell_type": "code",
      "execution_count": 73,
      "metadata": {
        "id": "2Kb_1V9HjNTA",
        "colab": {
          "base_uri": "https://localhost:8080/"
        },
        "outputId": "114dd5c0-d126-45bb-b0ee-04312302f1a6"
      },
      "outputs": [
        {
          "output_type": "stream",
          "name": "stdout",
          "text": [
            "['c', 'o', 'r', 'o']\n"
          ]
        }
      ],
      "source": [
        "# print x4\n",
        "print(x4)\n"
      ],
      "id": "2Kb_1V9HjNTA"
    },
    {
      "cell_type": "markdown",
      "metadata": {
        "id": "3HgP3nUmjNTA"
      },
      "source": [
        "Convert the list of elements to single string using join function and print it"
      ],
      "id": "3HgP3nUmjNTA"
    },
    {
      "cell_type": "code",
      "execution_count": 74,
      "metadata": {
        "id": "hiXO7ekhjNTA",
        "colab": {
          "base_uri": "https://localhost:8080/"
        },
        "outputId": "347fd5f2-c1db-4b66-919e-a49c7b2eb362"
      },
      "outputs": [
        {
          "output_type": "stream",
          "name": "stdout",
          "text": [
            "coro\n"
          ]
        }
      ],
      "source": [
        "\n",
        "x4=''.join(x4)\n",
        "print(x4)"
      ],
      "id": "hiXO7ekhjNTA"
    },
    {
      "cell_type": "markdown",
      "metadata": {
        "id": "tW6We_kvjNTA"
      },
      "source": [
        "## Sets"
      ],
      "id": "tW6We_kvjNTA"
    },
    {
      "cell_type": "markdown",
      "metadata": {
        "id": "02qkte5xjNTA"
      },
      "source": [
        "### Create stud_grades = ['A','A','B','C','C','F']"
      ],
      "id": "02qkte5xjNTA"
    },
    {
      "cell_type": "code",
      "execution_count": 79,
      "metadata": {
        "id": "M5P_qZaTjNTB"
      },
      "outputs": [],
      "source": [
        "stud_grades=['A','A','B','C','C','F']"
      ],
      "id": "M5P_qZaTjNTB"
    },
    {
      "cell_type": "markdown",
      "metadata": {
        "id": "XazCnMcBjNTB"
      },
      "source": [
        "Print the len of stud_grades"
      ],
      "id": "XazCnMcBjNTB"
    },
    {
      "cell_type": "code",
      "execution_count": 80,
      "metadata": {
        "id": "gMMJN-V5jNTB",
        "colab": {
          "base_uri": "https://localhost:8080/"
        },
        "outputId": "8aec6288-08ea-47e9-94d8-15b0b799d99c"
      },
      "outputs": [
        {
          "output_type": "execute_result",
          "data": {
            "text/plain": [
              "6"
            ]
          },
          "metadata": {},
          "execution_count": 80
        }
      ],
      "source": [
        "len(stud_grades)\n",
        "\n"
      ],
      "id": "gMMJN-V5jNTB"
    },
    {
      "cell_type": "markdown",
      "metadata": {
        "id": "ALm7hstGjNTB"
      },
      "source": [
        "Create a new variable, stud_grades_set = set(stud_grades)"
      ],
      "id": "ALm7hstGjNTB"
    },
    {
      "cell_type": "code",
      "execution_count": 83,
      "metadata": {
        "id": "ItDkZir6UA_W",
        "colab": {
          "base_uri": "https://localhost:8080/"
        },
        "outputId": "f46d0d7f-f61c-4bd0-8c6d-90c007c1a059"
      },
      "outputs": [
        {
          "output_type": "execute_result",
          "data": {
            "text/plain": [
              "{'A', 'B', 'C', 'F'}"
            ]
          },
          "metadata": {},
          "execution_count": 83
        }
      ],
      "source": [
        "stud_grades_set=set(stud_grades)\n",
        "stud_grades_set"
      ],
      "id": "ItDkZir6UA_W"
    },
    {
      "cell_type": "markdown",
      "metadata": {
        "id": "JJESkQiJjNTB"
      },
      "source": [
        "Print stud_grades_set."
      ],
      "id": "JJESkQiJjNTB"
    },
    {
      "cell_type": "code",
      "execution_count": 82,
      "metadata": {
        "id": "Q-daiiLPjNTB",
        "colab": {
          "base_uri": "https://localhost:8080/"
        },
        "outputId": "cf62c4e5-36ee-464d-bbd1-91f2577a7c45"
      },
      "outputs": [
        {
          "output_type": "stream",
          "name": "stdout",
          "text": [
            "{'B', 'C', 'F', 'A'}\n"
          ]
        }
      ],
      "source": [
        "\n",
        "print(stud_grades_set)\n"
      ],
      "id": "Q-daiiLPjNTB"
    },
    {
      "cell_type": "markdown",
      "metadata": {
        "id": "hNeCPwPOjNTC"
      },
      "source": [
        "print the type of stud_grades and stud_grades_set and print their corresponding elements. Try to understand the difference between them."
      ],
      "id": "hNeCPwPOjNTC"
    },
    {
      "cell_type": "code",
      "execution_count": 87,
      "metadata": {
        "id": "g7cntC0ojNTC",
        "colab": {
          "base_uri": "https://localhost:8080/"
        },
        "outputId": "fc228b9e-1c40-479d-acc2-5ed6cdd0d91f"
      },
      "outputs": [
        {
          "output_type": "stream",
          "name": "stdout",
          "text": [
            "Type of stud_grades: <class 'list'>\n",
            "Elements of stud_grades: ['A', 'A', 'B', 'C', 'C', 'F']\n",
            "\n",
            "Type of stud_grades_set: <class 'set'>\n",
            "Elements of stud_grades_set: {'B', 'C', 'F', 'A'}\n"
          ]
        }
      ],
      "source": [
        "\n",
        "print(\"Type of stud_grades:\", type(stud_grades))\n",
        "print(\"Elements of stud_grades:\", stud_grades)\n",
        "\n",
        "print(\"\\nType of stud_grades_set:\", type(stud_grades_set))\n",
        "print(\"Elements of stud_grades_set:\", stud_grades_set)\n",
        "\n"
      ],
      "id": "g7cntC0ojNTC"
    },
    {
      "cell_type": "markdown",
      "metadata": {
        "id": "WjzzJX8yjNTC"
      },
      "source": [
        "Add a new element ‘G’ to stud_grades_set"
      ],
      "id": "WjzzJX8yjNTC"
    },
    {
      "cell_type": "code",
      "execution_count": 88,
      "metadata": {
        "id": "y80DVAlRjNTC",
        "colab": {
          "base_uri": "https://localhost:8080/"
        },
        "outputId": "16ca295e-6914-4c05-ba17-0fa8759d0049"
      },
      "outputs": [
        {
          "output_type": "execute_result",
          "data": {
            "text/plain": [
              "{'A', 'B', 'C', 'F', 'G'}"
            ]
          },
          "metadata": {},
          "execution_count": 88
        }
      ],
      "source": [
        "stud_grades_set.add('G')\n",
        "stud_grades_set\n"
      ],
      "id": "y80DVAlRjNTC"
    },
    {
      "cell_type": "markdown",
      "metadata": {
        "id": "4TO9zhSJjNTC"
      },
      "source": [
        "Add element 'F' to stud_grades_set. and print it."
      ],
      "id": "4TO9zhSJjNTC"
    },
    {
      "cell_type": "code",
      "execution_count": 89,
      "metadata": {
        "id": "Bh4tc1zCjNTC",
        "colab": {
          "base_uri": "https://localhost:8080/"
        },
        "outputId": "7840097d-7e57-4396-8a47-8abb45d96759"
      },
      "outputs": [
        {
          "output_type": "execute_result",
          "data": {
            "text/plain": [
              "{'A', 'B', 'C', 'F', 'G'}"
            ]
          },
          "metadata": {},
          "execution_count": 89
        }
      ],
      "source": [
        "\n",
        "\n",
        "stud_grades_set.add('F')\n",
        "stud_grades_set\n"
      ],
      "id": "Bh4tc1zCjNTC"
    },
    {
      "cell_type": "markdown",
      "metadata": {
        "id": "FSgM3DD5jNTD"
      },
      "source": [
        "!!Did you notice? set doesn't add an element if it's already present in it, unlike lists."
      ],
      "id": "FSgM3DD5jNTD"
    },
    {
      "cell_type": "markdown",
      "metadata": {
        "id": "tqz1GBM5jNTD"
      },
      "source": [
        "Remove ‘F’ from stud_grades_set"
      ],
      "id": "tqz1GBM5jNTD"
    },
    {
      "cell_type": "code",
      "execution_count": 90,
      "metadata": {
        "id": "zOLBDdk0jNTD",
        "colab": {
          "base_uri": "https://localhost:8080/"
        },
        "outputId": "5a14c4ce-2ad5-4fe2-c19b-572e654783b4"
      },
      "outputs": [
        {
          "output_type": "execute_result",
          "data": {
            "text/plain": [
              "{'A', 'B', 'C', 'G'}"
            ]
          },
          "metadata": {},
          "execution_count": 90
        }
      ],
      "source": [
        "\n",
        "stud_grades_set.remove('F')\n",
        "stud_grades_set\n"
      ],
      "id": "zOLBDdk0jNTD"
    },
    {
      "cell_type": "markdown",
      "metadata": {
        "id": "wxMXywoRjNTD"
      },
      "source": [
        "Print the elements and the length of stud_grades_set"
      ],
      "id": "wxMXywoRjNTD"
    },
    {
      "cell_type": "code",
      "execution_count": 91,
      "metadata": {
        "id": "lS582g27jNTD",
        "colab": {
          "base_uri": "https://localhost:8080/"
        },
        "outputId": "e89add70-1210-4932-991f-8452fdf9dc21"
      },
      "outputs": [
        {
          "output_type": "stream",
          "name": "stdout",
          "text": [
            "{'B', 'G', 'C', 'A'}\n",
            "4\n"
          ]
        }
      ],
      "source": [
        "\n",
        "print(stud_grades_set)\n",
        "print(len(stud_grades_set))\n",
        "\n"
      ],
      "id": "lS582g27jNTD"
    },
    {
      "cell_type": "markdown",
      "metadata": {
        "id": "FctCYkNBjNTD"
      },
      "source": [
        "### Create colors = [‘red’,’blue’,’orange’], and fruits = [‘orange’,’grapes’,’apples’]"
      ],
      "id": "FctCYkNBjNTD"
    },
    {
      "cell_type": "code",
      "execution_count": 92,
      "metadata": {
        "id": "Ax9GSualUA_b"
      },
      "outputs": [],
      "source": [
        "\n",
        "colors=['red','blue','orange']\n",
        "fruits=['orange','grapes','apples']"
      ],
      "id": "Ax9GSualUA_b"
    },
    {
      "cell_type": "markdown",
      "metadata": {
        "id": "kfIRtvphjNTE"
      },
      "source": [
        "Print color and fruits"
      ],
      "id": "kfIRtvphjNTE"
    },
    {
      "cell_type": "code",
      "execution_count": 93,
      "metadata": {
        "id": "q-gavK0-jNTE",
        "colab": {
          "base_uri": "https://localhost:8080/"
        },
        "outputId": "b7c5cb03-8787-40d6-89a0-04d489590aa3"
      },
      "outputs": [
        {
          "output_type": "stream",
          "name": "stdout",
          "text": [
            "['red', 'blue', 'orange']\n",
            "['orange', 'grapes', 'apples']\n"
          ]
        }
      ],
      "source": [
        "\n",
        "\n",
        "print(colors)\n",
        "print(fruits)"
      ],
      "id": "q-gavK0-jNTE"
    },
    {
      "cell_type": "markdown",
      "metadata": {
        "id": "uMOTrWwSjNTE"
      },
      "source": [
        "Create colors_set, and fruits_set. (using set() ) and print them"
      ],
      "id": "uMOTrWwSjNTE"
    },
    {
      "cell_type": "code",
      "execution_count": 94,
      "metadata": {
        "id": "pjs5HyB0UA_d",
        "colab": {
          "base_uri": "https://localhost:8080/"
        },
        "outputId": "d818ede4-722a-4356-80bb-f62da78554b6"
      },
      "outputs": [
        {
          "output_type": "stream",
          "name": "stdout",
          "text": [
            "{'red', 'orange', 'blue'}\n",
            "{'grapes', 'orange', 'apples'}\n"
          ]
        }
      ],
      "source": [
        "colors_set=set(colors)\n",
        "fruits_set=set(fruits)\n",
        "print(colors_set)\n",
        "print(fruits_set)"
      ],
      "id": "pjs5HyB0UA_d"
    },
    {
      "cell_type": "markdown",
      "metadata": {
        "id": "tW9fj0R1jNTE"
      },
      "source": [
        "Find the union of both the sets."
      ],
      "id": "tW9fj0R1jNTE"
    },
    {
      "cell_type": "code",
      "execution_count": 95,
      "metadata": {
        "id": "oyskI_CTjNTE",
        "colab": {
          "base_uri": "https://localhost:8080/"
        },
        "outputId": "5b28d138-1d0f-4c22-b688-c3e4846f19fa"
      },
      "outputs": [
        {
          "output_type": "execute_result",
          "data": {
            "text/plain": [
              "{'apples', 'blue', 'grapes', 'orange', 'red'}"
            ]
          },
          "metadata": {},
          "execution_count": 95
        }
      ],
      "source": [
        "\n",
        "union_set=colors_set.union(fruits_set)\n",
        "union_set\n",
        "\n"
      ],
      "id": "oyskI_CTjNTE"
    },
    {
      "cell_type": "markdown",
      "metadata": {
        "id": "3yXYgYBLjNTF"
      },
      "source": [
        "Find the intersection of both the sets"
      ],
      "id": "3yXYgYBLjNTF"
    },
    {
      "cell_type": "code",
      "execution_count": 97,
      "metadata": {
        "id": "3AzYqu5sjNTF",
        "colab": {
          "base_uri": "https://localhost:8080/"
        },
        "outputId": "962a9071-98cd-4e62-8bdf-db9fe5a9e1e0"
      },
      "outputs": [
        {
          "output_type": "execute_result",
          "data": {
            "text/plain": [
              "{'orange'}"
            ]
          },
          "metadata": {},
          "execution_count": 97
        }
      ],
      "source": [
        "\n",
        "intersection_set=colors_set.intersection(fruits_set)\n",
        "intersection_set\n",
        "\n"
      ],
      "id": "3AzYqu5sjNTF"
    },
    {
      "cell_type": "markdown",
      "metadata": {
        "id": "PuhlSjH_jNTF"
      },
      "source": [
        "Find the elements which are Fruits but not colors (using set.difference() )"
      ],
      "id": "PuhlSjH_jNTF"
    },
    {
      "cell_type": "code",
      "execution_count": 98,
      "metadata": {
        "id": "gBaxHXrfjNTF",
        "colab": {
          "base_uri": "https://localhost:8080/"
        },
        "outputId": "9e773480-53cb-4f6b-eded-fcfc4af2c259"
      },
      "outputs": [
        {
          "output_type": "execute_result",
          "data": {
            "text/plain": [
              "{'apples', 'grapes'}"
            ]
          },
          "metadata": {},
          "execution_count": 98
        }
      ],
      "source": [
        "not_colors=fruits_set.difference(colors_set)\n",
        "not_colors\n",
        "\n"
      ],
      "id": "gBaxHXrfjNTF"
    },
    {
      "cell_type": "code",
      "execution_count": null,
      "metadata": {
        "id": "R60U4CRhUA_e"
      },
      "outputs": [],
      "source": [],
      "id": "R60U4CRhUA_e"
    },
    {
      "cell_type": "markdown",
      "metadata": {
        "id": "hLZeBta3jNTF"
      },
      "source": [
        "## TUPLES"
      ],
      "id": "hLZeBta3jNTF"
    },
    {
      "cell_type": "markdown",
      "metadata": {
        "id": "Nerhdg66jNTF"
      },
      "source": [
        "### Create temp = [17, ’Virat’, 50.0]"
      ],
      "id": "Nerhdg66jNTF"
    },
    {
      "cell_type": "code",
      "execution_count": 99,
      "metadata": {
        "id": "YKb5GS-FUA_f",
        "colab": {
          "base_uri": "https://localhost:8080/"
        },
        "outputId": "150c05bb-68d2-4f56-c918-2a9dfcef6260"
      },
      "outputs": [
        {
          "output_type": "execute_result",
          "data": {
            "text/plain": [
              "[17, 'Virat', 50.0]"
            ]
          },
          "metadata": {},
          "execution_count": 99
        }
      ],
      "source": [
        "\n",
        "temp=[17,'Virat',50.0]\n",
        "temp"
      ],
      "id": "YKb5GS-FUA_f"
    },
    {
      "cell_type": "markdown",
      "metadata": {
        "id": "C0IuMJFijNTG"
      },
      "source": [
        "Iterate through temp and print all the items in temp"
      ],
      "id": "C0IuMJFijNTG"
    },
    {
      "cell_type": "code",
      "execution_count": 100,
      "metadata": {
        "id": "CSKY_cgHjNTG",
        "colab": {
          "base_uri": "https://localhost:8080/"
        },
        "outputId": "91dd3998-05a9-403f-9e0b-1e9e06913ffc"
      },
      "outputs": [
        {
          "output_type": "stream",
          "name": "stdout",
          "text": [
            "17\n",
            "Virat\n",
            "50.0\n"
          ]
        }
      ],
      "source": [
        "\n",
        "for i in temp:\n",
        "    print(i)\n"
      ],
      "id": "CSKY_cgHjNTG"
    },
    {
      "cell_type": "markdown",
      "metadata": {
        "id": "gI0kBGQ1jNTG"
      },
      "source": [
        "replace first element with 11 in temp"
      ],
      "id": "gI0kBGQ1jNTG"
    },
    {
      "cell_type": "code",
      "execution_count": 101,
      "metadata": {
        "id": "p6JCtyOBjNTG",
        "colab": {
          "base_uri": "https://localhost:8080/"
        },
        "outputId": "f8f481c8-7dea-45c4-8dbf-8e34b9915141"
      },
      "outputs": [
        {
          "output_type": "execute_result",
          "data": {
            "text/plain": [
              "[11, 'Virat', 50.0]"
            ]
          },
          "metadata": {},
          "execution_count": 101
        }
      ],
      "source": [
        "\n",
        "temp[0]=11\n",
        "temp"
      ],
      "id": "p6JCtyOBjNTG"
    },
    {
      "cell_type": "markdown",
      "metadata": {
        "id": "JV3b34AdjNTG"
      },
      "source": [
        "Set temp1 = tuple(temp)"
      ],
      "id": "JV3b34AdjNTG"
    },
    {
      "cell_type": "code",
      "execution_count": 102,
      "metadata": {
        "id": "yFu9n19tUA_g",
        "colab": {
          "base_uri": "https://localhost:8080/"
        },
        "outputId": "ad74e3ab-616c-4095-9509-4f03535aee2c"
      },
      "outputs": [
        {
          "output_type": "execute_result",
          "data": {
            "text/plain": [
              "(11, 'Virat', 50.0)"
            ]
          },
          "metadata": {},
          "execution_count": 102
        }
      ],
      "source": [
        "\n",
        "temp1=tuple(temp)\n",
        "temp1"
      ],
      "id": "yFu9n19tUA_g"
    },
    {
      "cell_type": "markdown",
      "metadata": {
        "id": "Z9LJWgBkjNTG"
      },
      "source": [
        "Iterate through temp1 and print all the items in temp1."
      ],
      "id": "Z9LJWgBkjNTG"
    },
    {
      "cell_type": "code",
      "execution_count": 103,
      "metadata": {
        "id": "t0v-FZsNjNTH",
        "colab": {
          "base_uri": "https://localhost:8080/"
        },
        "outputId": "8a3f3c80-ec5e-460b-81ae-c43144a353ab"
      },
      "outputs": [
        {
          "output_type": "stream",
          "name": "stdout",
          "text": [
            "11\n",
            "Virat\n",
            "50.0\n"
          ]
        }
      ],
      "source": [
        "\n",
        "for i in temp1:\n",
        "    print(i)\n",
        "\n"
      ],
      "id": "t0v-FZsNjNTH"
    },
    {
      "cell_type": "markdown",
      "metadata": {
        "id": "A4FXMQDfjNTH"
      },
      "source": [
        "replace first element with 17 in temp1"
      ],
      "id": "A4FXMQDfjNTH"
    },
    {
      "cell_type": "code",
      "execution_count": 105,
      "metadata": {
        "id": "eioDSdW8jNTH",
        "colab": {
          "base_uri": "https://localhost:8080/",
          "height": 164
        },
        "outputId": "c186f558-1f47-455d-f438-cf65b4193ada"
      },
      "outputs": [
        {
          "output_type": "error",
          "ename": "TypeError",
          "evalue": "'tuple' object does not support item assignment",
          "traceback": [
            "\u001b[0;31m---------------------------------------------------------------------------\u001b[0m",
            "\u001b[0;31mTypeError\u001b[0m                                 Traceback (most recent call last)",
            "\u001b[0;32m<ipython-input-105-f914bde7af8f>\u001b[0m in \u001b[0;36m<cell line: 1>\u001b[0;34m()\u001b[0m\n\u001b[0;32m----> 1\u001b[0;31m \u001b[0mtemp1\u001b[0m\u001b[0;34m[\u001b[0m\u001b[0;36m0\u001b[0m\u001b[0;34m]\u001b[0m\u001b[0;34m=\u001b[0m\u001b[0;36m17\u001b[0m\u001b[0;34m\u001b[0m\u001b[0;34m\u001b[0m\u001b[0m\n\u001b[0m\u001b[1;32m      2\u001b[0m \u001b[0mtemp1\u001b[0m\u001b[0;34m\u001b[0m\u001b[0;34m\u001b[0m\u001b[0m\n",
            "\u001b[0;31mTypeError\u001b[0m: 'tuple' object does not support item assignment"
          ]
        }
      ],
      "source": [
        "temp1[0]=17\n",
        "temp1\n"
      ],
      "id": "eioDSdW8jNTH"
    },
    {
      "cell_type": "markdown",
      "metadata": {
        "id": "IuGIObFZjNTH"
      },
      "source": [
        "<b>Oops!! You got an error. Hey Don't worry! Its because Once a tuple is created, you cannot change its values unlike list.</b>"
      ],
      "id": "IuGIObFZjNTH"
    },
    {
      "cell_type": "markdown",
      "metadata": {
        "id": "ExB_cM1ZjNTH"
      },
      "source": [
        "### Create city = (\"Bangalore\", 28.9949521, 72)"
      ],
      "id": "ExB_cM1ZjNTH"
    },
    {
      "cell_type": "code",
      "execution_count": 106,
      "metadata": {
        "id": "fWz52DjjjNTH",
        "colab": {
          "base_uri": "https://localhost:8080/"
        },
        "outputId": "8d8d101d-a69f-4152-8f68-f3618277361d"
      },
      "outputs": [
        {
          "output_type": "execute_result",
          "data": {
            "text/plain": [
              "('Bangalore', 28.9949521, 72)"
            ]
          },
          "metadata": {},
          "execution_count": 106
        }
      ],
      "source": [
        "\n",
        "city=(\"Bangalore\",28.9949521,72)\n",
        "city"
      ],
      "id": "fWz52DjjjNTH"
    },
    {
      "cell_type": "markdown",
      "metadata": {
        "id": "v4ipyqXsjNTH"
      },
      "source": [
        "Print first element of city"
      ],
      "id": "v4ipyqXsjNTH"
    },
    {
      "cell_type": "code",
      "execution_count": 107,
      "metadata": {
        "id": "KJHMuFk1jNTI",
        "colab": {
          "base_uri": "https://localhost:8080/"
        },
        "outputId": "11d96b23-5446-4acf-8467-4d32f537864a"
      },
      "outputs": [
        {
          "output_type": "stream",
          "name": "stdout",
          "text": [
            "Bangalore\n"
          ]
        }
      ],
      "source": [
        "\n",
        "print(city[0])"
      ],
      "id": "KJHMuFk1jNTI"
    },
    {
      "cell_type": "markdown",
      "metadata": {
        "id": "N5FoHg4ujNTI"
      },
      "source": [
        "Create city2 = (‘Chennai’, 30.01, 74)"
      ],
      "id": "N5FoHg4ujNTI"
    },
    {
      "cell_type": "code",
      "execution_count": 108,
      "metadata": {
        "id": "fYuGqbDEjNTI",
        "colab": {
          "base_uri": "https://localhost:8080/"
        },
        "outputId": "e5c88dde-ab3b-48dc-ec87-ec15b0d84994"
      },
      "outputs": [
        {
          "output_type": "execute_result",
          "data": {
            "text/plain": [
              "('Chennai', 30.01, 74)"
            ]
          },
          "metadata": {},
          "execution_count": 108
        }
      ],
      "source": [
        "\n",
        "city2=('Chennai',30.01,74)\n",
        "city2"
      ],
      "id": "fYuGqbDEjNTI"
    },
    {
      "cell_type": "markdown",
      "metadata": {
        "id": "0gz-HACUjNTI"
      },
      "source": [
        "Create cities which consist of city and city2"
      ],
      "id": "0gz-HACUjNTI"
    },
    {
      "cell_type": "code",
      "execution_count": 109,
      "metadata": {
        "id": "5dTN1LQPjNTI",
        "colab": {
          "base_uri": "https://localhost:8080/"
        },
        "outputId": "dc3c1ab4-bb15-48d6-d62f-7eb20af95f02"
      },
      "outputs": [
        {
          "output_type": "execute_result",
          "data": {
            "text/plain": [
              "(('Bangalore', 28.9949521, 72), ('Chennai', 30.01, 74))"
            ]
          },
          "metadata": {},
          "execution_count": 109
        }
      ],
      "source": [
        "\n",
        "cities=(city,city2)\n",
        "cities"
      ],
      "id": "5dTN1LQPjNTI"
    },
    {
      "cell_type": "markdown",
      "metadata": {
        "id": "He-teRi2jNTI"
      },
      "source": [
        "Print cities"
      ],
      "id": "He-teRi2jNTI"
    },
    {
      "cell_type": "code",
      "execution_count": 110,
      "metadata": {
        "id": "ISySNfxGjNTI",
        "colab": {
          "base_uri": "https://localhost:8080/"
        },
        "outputId": "2dd62469-37c5-4a84-fc6d-4731b516092c"
      },
      "outputs": [
        {
          "output_type": "stream",
          "name": "stdout",
          "text": [
            "(('Bangalore', 28.9949521, 72), ('Chennai', 30.01, 74))\n"
          ]
        }
      ],
      "source": [
        "\n",
        "print(cities)"
      ],
      "id": "ISySNfxGjNTI"
    },
    {
      "cell_type": "markdown",
      "metadata": {
        "id": "brFx6-rtjNTJ"
      },
      "source": [
        "Print type of first element in cities"
      ],
      "id": "brFx6-rtjNTJ"
    },
    {
      "cell_type": "code",
      "execution_count": 111,
      "metadata": {
        "id": "CmIifGybjNTJ",
        "colab": {
          "base_uri": "https://localhost:8080/"
        },
        "outputId": "a69d15d7-bc64-4c0b-e8ff-2c6b4ff68d9e"
      },
      "outputs": [
        {
          "output_type": "stream",
          "name": "stdout",
          "text": [
            "<class 'tuple'>\n"
          ]
        }
      ],
      "source": [
        "\n",
        "print(type(cities[0]))"
      ],
      "id": "CmIifGybjNTJ"
    },
    {
      "cell_type": "markdown",
      "metadata": {
        "id": "jtk8J_yHjNTJ"
      },
      "source": [
        "print the type of cities\n"
      ],
      "id": "jtk8J_yHjNTJ"
    },
    {
      "cell_type": "code",
      "execution_count": 112,
      "metadata": {
        "id": "y9rdG29XjNTJ",
        "colab": {
          "base_uri": "https://localhost:8080/"
        },
        "outputId": "cf673ad8-0540-4875-b6b3-94c07c40d9ed"
      },
      "outputs": [
        {
          "output_type": "stream",
          "name": "stdout",
          "text": [
            "<class 'tuple'>\n"
          ]
        }
      ],
      "source": [
        "\n",
        "print(type(cities))"
      ],
      "id": "y9rdG29XjNTJ"
    },
    {
      "cell_type": "markdown",
      "metadata": {
        "id": "uXHSadWqjNTJ"
      },
      "source": [
        "Hey that implies you made a nested tuples!!"
      ],
      "id": "uXHSadWqjNTJ"
    },
    {
      "cell_type": "markdown",
      "metadata": {
        "id": "zViY-S_djNTJ"
      },
      "source": [
        "## DICTIONARY"
      ],
      "id": "zViY-S_djNTJ"
    },
    {
      "cell_type": "markdown",
      "metadata": {
        "id": "4NjUxRaZjNTK"
      },
      "source": [
        "### Create a dictionary d = {\"actor\":\"amir\",\"animal\":\"cat\",\"earth\":2,\"list\":[23,32,12]}"
      ],
      "id": "4NjUxRaZjNTK"
    },
    {
      "cell_type": "code",
      "execution_count": 113,
      "metadata": {
        "id": "UCtEFPI4jNTK",
        "colab": {
          "base_uri": "https://localhost:8080/"
        },
        "outputId": "4845f242-0e1a-4553-f045-aaf2c2ba8d4e"
      },
      "outputs": [
        {
          "output_type": "execute_result",
          "data": {
            "text/plain": [
              "{'actor': 'amir', 'animal': 'cat', 'earth': 2, 'list': [23, 32, 12]}"
            ]
          },
          "metadata": {},
          "execution_count": 113
        }
      ],
      "source": [
        "\n",
        "d={\"actor\":\"amir\",\"animal\":\"cat\",\"earth\":2,\"list\":[23,32,12]}\n",
        "d"
      ],
      "id": "UCtEFPI4jNTK"
    },
    {
      "cell_type": "markdown",
      "metadata": {
        "id": "OamenDk8jNTK"
      },
      "source": [
        "Print the value of d[0]"
      ],
      "id": "OamenDk8jNTK"
    },
    {
      "cell_type": "code",
      "execution_count": 114,
      "metadata": {
        "id": "gion3awcjNTK",
        "colab": {
          "base_uri": "https://localhost:8080/",
          "height": 146
        },
        "outputId": "20f499f2-e3f5-44d2-d8b1-8077441a7523"
      },
      "outputs": [
        {
          "output_type": "error",
          "ename": "KeyError",
          "evalue": "0",
          "traceback": [
            "\u001b[0;31m---------------------------------------------------------------------------\u001b[0m",
            "\u001b[0;31mKeyError\u001b[0m                                  Traceback (most recent call last)",
            "\u001b[0;32m<ipython-input-114-c7332189be96>\u001b[0m in \u001b[0;36m<cell line: 1>\u001b[0;34m()\u001b[0m\n\u001b[0;32m----> 1\u001b[0;31m \u001b[0mprint\u001b[0m\u001b[0;34m(\u001b[0m\u001b[0md\u001b[0m\u001b[0;34m[\u001b[0m\u001b[0;36m0\u001b[0m\u001b[0;34m]\u001b[0m\u001b[0;34m)\u001b[0m\u001b[0;34m\u001b[0m\u001b[0;34m\u001b[0m\u001b[0m\n\u001b[0m",
            "\u001b[0;31mKeyError\u001b[0m: 0"
          ]
        }
      ],
      "source": [
        "\n",
        "print(d[0])"
      ],
      "id": "gion3awcjNTK"
    },
    {
      "cell_type": "markdown",
      "metadata": {
        "id": "XYtrrUigjNTK"
      },
      "source": [
        "<b>Oops!! again an error. again a fun fact. Dictionary return the value for key if key is in the dictionary, else throws KeyError\n",
        "and we don't have key 0 here :( </b>"
      ],
      "id": "XYtrrUigjNTK"
    },
    {
      "cell_type": "markdown",
      "metadata": {
        "id": "62VXYnw1jNTK"
      },
      "source": [
        "Store the value of d[‘actor’] to a new variable actor."
      ],
      "id": "62VXYnw1jNTK"
    },
    {
      "cell_type": "code",
      "execution_count": 115,
      "metadata": {
        "id": "kkBfNz81jNTK",
        "colab": {
          "base_uri": "https://localhost:8080/",
          "height": 36
        },
        "outputId": "023e1862-7da6-4d57-a934-3a242b887e89"
      },
      "outputs": [
        {
          "output_type": "execute_result",
          "data": {
            "text/plain": [
              "'amir'"
            ],
            "application/vnd.google.colaboratory.intrinsic+json": {
              "type": "string"
            }
          },
          "metadata": {},
          "execution_count": 115
        }
      ],
      "source": [
        "\n",
        "actor=d['actor']\n",
        "actor\n"
      ],
      "id": "kkBfNz81jNTK"
    },
    {
      "cell_type": "markdown",
      "metadata": {
        "id": "uFfuF569jNTL"
      },
      "source": [
        "Print the type of actor"
      ],
      "id": "uFfuF569jNTL"
    },
    {
      "cell_type": "code",
      "execution_count": 116,
      "metadata": {
        "id": "bKbFXBxyjNTL",
        "colab": {
          "base_uri": "https://localhost:8080/"
        },
        "outputId": "9e5b3534-1ad4-432f-a014-6c2b8b425cc1"
      },
      "outputs": [
        {
          "output_type": "stream",
          "name": "stdout",
          "text": [
            "<class 'str'>\n"
          ]
        }
      ],
      "source": [
        "\n",
        "print(type(actor))"
      ],
      "id": "bKbFXBxyjNTL"
    },
    {
      "cell_type": "markdown",
      "metadata": {
        "id": "y549qN04jNTL"
      },
      "source": [
        "Store the value of d[‘list’] in new variable List."
      ],
      "id": "y549qN04jNTL"
    },
    {
      "cell_type": "code",
      "execution_count": 117,
      "metadata": {
        "id": "I7GyOK8DjNTL",
        "colab": {
          "base_uri": "https://localhost:8080/"
        },
        "outputId": "1d1bc95e-deb2-41f7-ecaf-91bc65d7d4dd"
      },
      "outputs": [
        {
          "output_type": "execute_result",
          "data": {
            "text/plain": [
              "[23, 32, 12]"
            ]
          },
          "metadata": {},
          "execution_count": 117
        }
      ],
      "source": [
        "\n",
        "List=d['list']\n",
        "List"
      ],
      "id": "I7GyOK8DjNTL"
    },
    {
      "cell_type": "markdown",
      "metadata": {
        "id": "Ul1YMiuNjNTL"
      },
      "source": [
        "Print the type of List."
      ],
      "id": "Ul1YMiuNjNTL"
    },
    {
      "cell_type": "code",
      "execution_count": 118,
      "metadata": {
        "id": "V0VdG9y_jNTL",
        "colab": {
          "base_uri": "https://localhost:8080/"
        },
        "outputId": "4faa6262-107b-448f-e3c6-d5f0ffb36a28"
      },
      "outputs": [
        {
          "output_type": "stream",
          "name": "stdout",
          "text": [
            "<class 'list'>\n"
          ]
        }
      ],
      "source": [
        "\n",
        "print(type(List))"
      ],
      "id": "V0VdG9y_jNTL"
    },
    {
      "cell_type": "markdown",
      "metadata": {
        "id": "A0CEMABhjNTL"
      },
      "source": [
        "Create d1 = { ‘singer’ : ‘Kr$na’ , ‘album’: ‘Still here’, ‘genre’ : ‘hip-hop’}"
      ],
      "id": "A0CEMABhjNTL"
    },
    {
      "cell_type": "code",
      "execution_count": 119,
      "metadata": {
        "id": "FCGCw5FEjNTL",
        "colab": {
          "base_uri": "https://localhost:8080/"
        },
        "outputId": "bbd915d4-e9b6-4ce7-8341-eb6dcf103563"
      },
      "outputs": [
        {
          "output_type": "execute_result",
          "data": {
            "text/plain": [
              "{'singer': 'Kr$na', 'album': 'Still here', 'genre': 'hip-hop'}"
            ]
          },
          "metadata": {},
          "execution_count": 119
        }
      ],
      "source": [
        "\n",
        "d1={'singer':'Kr$na','album':'Still here','genre':'hip-hop'}\n",
        "d1"
      ],
      "id": "FCGCw5FEjNTL"
    },
    {
      "cell_type": "markdown",
      "metadata": {
        "id": "ybGIILrLjNTM"
      },
      "source": [
        "Merge d1 into d."
      ],
      "id": "ybGIILrLjNTM"
    },
    {
      "cell_type": "code",
      "execution_count": 120,
      "metadata": {
        "id": "UmDbbQJPjNTM",
        "colab": {
          "base_uri": "https://localhost:8080/"
        },
        "outputId": "d6d0311f-72c4-4f52-ece6-cbd4ba008db4"
      },
      "outputs": [
        {
          "output_type": "execute_result",
          "data": {
            "text/plain": [
              "{'actor': 'amir',\n",
              " 'animal': 'cat',\n",
              " 'earth': 2,\n",
              " 'list': [23, 32, 12],\n",
              " 'singer': 'Kr$na',\n",
              " 'album': 'Still here',\n",
              " 'genre': 'hip-hop'}"
            ]
          },
          "metadata": {},
          "execution_count": 120
        }
      ],
      "source": [
        "\n",
        "d.update(d1)\n",
        "d"
      ],
      "id": "UmDbbQJPjNTM"
    },
    {
      "cell_type": "markdown",
      "metadata": {
        "id": "jhAPX45ZjNTM"
      },
      "source": [
        "print d"
      ],
      "id": "jhAPX45ZjNTM"
    },
    {
      "cell_type": "code",
      "execution_count": 121,
      "metadata": {
        "id": "785S26ryjNTM",
        "colab": {
          "base_uri": "https://localhost:8080/"
        },
        "outputId": "3ce37482-09c4-451b-c8a5-38f3f43c9636"
      },
      "outputs": [
        {
          "output_type": "execute_result",
          "data": {
            "text/plain": [
              "{'actor': 'amir',\n",
              " 'animal': 'cat',\n",
              " 'earth': 2,\n",
              " 'list': [23, 32, 12],\n",
              " 'singer': 'Kr$na',\n",
              " 'album': 'Still here',\n",
              " 'genre': 'hip-hop'}"
            ]
          },
          "metadata": {},
          "execution_count": 121
        }
      ],
      "source": [
        "d"
      ],
      "id": "785S26ryjNTM"
    },
    {
      "cell_type": "markdown",
      "metadata": {
        "id": "9E852mY2jNTM"
      },
      "source": [
        "Print all the keys in d"
      ],
      "id": "9E852mY2jNTM"
    },
    {
      "cell_type": "code",
      "execution_count": 122,
      "metadata": {
        "id": "7K843OrLjNTM",
        "colab": {
          "base_uri": "https://localhost:8080/"
        },
        "outputId": "d1a97a37-8b1f-4516-a6c9-a42ab16bf7c8"
      },
      "outputs": [
        {
          "output_type": "stream",
          "name": "stdout",
          "text": [
            "dict_keys(['actor', 'animal', 'earth', 'list', 'singer', 'album', 'genre'])\n"
          ]
        }
      ],
      "source": [
        "\n",
        "print(d.keys())"
      ],
      "id": "7K843OrLjNTM"
    },
    {
      "cell_type": "markdown",
      "metadata": {
        "id": "fiuzxbGkjNTN"
      },
      "source": [
        "Print all the values in d"
      ],
      "id": "fiuzxbGkjNTN"
    },
    {
      "cell_type": "code",
      "execution_count": 123,
      "metadata": {
        "id": "Pyhh6r0pjNTN",
        "colab": {
          "base_uri": "https://localhost:8080/"
        },
        "outputId": "cdd0c526-a65e-4125-fe81-175a8bb0aba6"
      },
      "outputs": [
        {
          "output_type": "stream",
          "name": "stdout",
          "text": [
            "dict_values(['amir', 'cat', 2, [23, 32, 12], 'Kr$na', 'Still here', 'hip-hop'])\n"
          ]
        }
      ],
      "source": [
        "\n",
        "print(d.values())"
      ],
      "id": "Pyhh6r0pjNTN"
    },
    {
      "cell_type": "markdown",
      "metadata": {
        "id": "XSoe8GWmjNTN"
      },
      "source": [
        "Iterate over d, and print each key, value pair as this - (actor ----> amir)"
      ],
      "id": "XSoe8GWmjNTN"
    },
    {
      "cell_type": "code",
      "execution_count": 124,
      "metadata": {
        "id": "O0iW9kiqjNTO",
        "colab": {
          "base_uri": "https://localhost:8080/"
        },
        "outputId": "fc63cbb0-a83b-411f-e6c7-b5c9057aa518"
      },
      "outputs": [
        {
          "output_type": "stream",
          "name": "stdout",
          "text": [
            "actor ----> amir\n",
            "animal ----> cat\n",
            "earth ----> 2\n",
            "list ----> [23, 32, 12]\n",
            "singer ----> Kr$na\n",
            "album ----> Still here\n",
            "genre ----> hip-hop\n"
          ]
        }
      ],
      "source": [
        "\n",
        "for key,value in d.items():\n",
        "    print(key,'---->',value)"
      ],
      "id": "O0iW9kiqjNTO"
    },
    {
      "cell_type": "markdown",
      "metadata": {
        "id": "Hhzm-EIsjNTO"
      },
      "source": [
        "count the number of occurences of charachters in string named \"sent\" using dictionary and print the same.\n"
      ],
      "id": "Hhzm-EIsjNTO"
    },
    {
      "cell_type": "code",
      "execution_count": 125,
      "metadata": {
        "id": "IvRlvUAljNTP",
        "colab": {
          "base_uri": "https://localhost:8080/"
        },
        "outputId": "7d212483-23bb-4cad-f2ee-7daafcaf3fb5"
      },
      "outputs": [
        {
          "output_type": "stream",
          "name": "stdout",
          "text": [
            "{'C': 2, 'o': 6, 'r': 4, 'n': 3, 'a': 2, 'v': 1, 'i': 1, 'u': 3, 's': 3, ' ': 5, 'e': 2, 'd': 4, 'L': 1, 'c': 1, 'k': 1, 'w': 1, 'A': 1, 'T': 1, 'h': 1, 'W': 1, 'l': 1, '.': 1}\n"
          ]
        }
      ],
      "source": [
        "\n",
        "sent='Coronavirus Caused Lockdowns Around The World.'\n",
        "char_count={}\n",
        "for char in sent:\n",
        "    if char in char_count:\n",
        "        char_count[char]+=1\n",
        "    else:\n",
        "        char_count[char]=1\n",
        "print(char_count)\n",
        "\n"
      ],
      "id": "IvRlvUAljNTP"
    },
    {
      "cell_type": "code",
      "execution_count": null,
      "metadata": {
        "id": "ebNwyxUujNTP"
      },
      "outputs": [],
      "source": [],
      "id": "ebNwyxUujNTP"
    }
  ],
  "metadata": {
    "colab": {
      "provenance": [],
      "include_colab_link": true
    },
    "kernelspec": {
      "display_name": "Python 3",
      "language": "python",
      "name": "python3"
    },
    "language_info": {
      "codemirror_mode": {
        "name": "ipython",
        "version": 3
      },
      "file_extension": ".py",
      "mimetype": "text/x-python",
      "name": "python",
      "nbconvert_exporter": "python",
      "pygments_lexer": "ipython3",
      "version": "3.7.4"
    }
  },
  "nbformat": 4,
  "nbformat_minor": 5
}