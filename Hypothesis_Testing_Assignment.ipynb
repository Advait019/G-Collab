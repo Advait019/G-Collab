{
  "nbformat": 4,
  "nbformat_minor": 0,
  "metadata": {
    "colab": {
      "provenance": [],
      "include_colab_link": true
    },
    "kernelspec": {
      "name": "python3",
      "display_name": "Python 3"
    },
    "language_info": {
      "name": "python"
    }
  },
  "cells": [
    {
      "cell_type": "markdown",
      "metadata": {
        "id": "view-in-github",
        "colab_type": "text"
      },
      "source": [
        "<a href=\"https://colab.research.google.com/github/Advait019/G-Collab/blob/main/Hypothesis_Testing_Assignment.ipynb\" target=\"_parent\"><img src=\"https://colab.research.google.com/assets/colab-badge.svg\" alt=\"Open In Colab\"/></a>"
      ]
    },
    {
      "cell_type": "markdown",
      "source": [
        " <center> **Hypothesis Testing**"
      ],
      "metadata": {
        "id": "wEPtWHTN-zvg"
      }
    },
    {
      "cell_type": "markdown",
      "source": [
        "### Null & Alternate Hypothesis"
      ],
      "metadata": {
        "id": "ayRuyuJ8AClo"
      }
    },
    {
      "cell_type": "markdown",
      "source": [
        "**Question 1:**\n",
        "Suppose you are conducting a study to determine whether a new drug is effective in reducing blood pressure. Define the null hypothesis (H0) and the alternate hypothesis (H1) for this study. Explain the significance of each hypothesis in the context of your research.\n",
        "\n",
        "**Question 2:**\n",
        "You are working with a manufacturing company that claims its new manufacturing process can produce car batteries with a longer lifespan than the current process. Formulate the null and alternate hypotheses for this scenario. Additionally, explain why it's essential to have clear and well-defined hypotheses before conducting hypothesis testing.\n",
        "\n",
        "**Question 3:**\n",
        "A fast-food restaurant chain is concerned that the average delivery time for online orders has increased in recent months, potentially affecting customer satisfaction. Create the null and alternate hypotheses for testing whether there has been a significant increase in delivery times.\n",
        "\n",
        "*These questions will help you to practice defining and understanding null and alternate hypotheses in various real-world scenarios.*"
      ],
      "metadata": {
        "id": "eKtIPPHAA8VC"
      }
    },
    {
      "cell_type": "code",
      "source": [
        "QUESTION 1: Null Hypothesis (H0): The new drug is effective in reducing blood pressure.\n",
        "Alternate Hypothesis (H1): The new drug is not effective in reducing blood pressure.\n",
        "\n",
        "Significance:\n",
        "By assuming that the null hypothesis, i.e., the new drug is effective in reducing blood pressure, we can prove the effectiveness of the drug with the statistically proven result.\n",
        "In case the assumed null hypothesis is proven to be incoorect, we can then proceed to reject the null hypothesis and accept the alternate hypothesis. As the final result obtained\n",
        "from this test would prove to be essential in determining the effectiveness of the drug.\n",
        "\n",
        "\n",
        "QUESTION 2: Null Hypothesis (H0): The new manufacturing process produce car batteries with a longer lifespan than the current process.\n",
        "Alternate Hypothesis (H1): The new manufacturing process does not produces car batteries with a longer lifespan than the current process.\n",
        "BY defining the initial null hypothesis and alternate hypothesis accurately, we can get a correct result from the test when we try to prove our assumsions i.e., null hypothesis is\n",
        "correct.These are the advantages of having a clear and well-defined hypothesis.\n",
        "\n",
        "QUESTION 3: Null Hypothesis (H0): The average delivery time for online orders has increased in recent months.\n",
        "Alternate Hypothesis (H1): The average delivery time for online orders has not increased in recent months.\n"
      ],
      "metadata": {
        "id": "-D8KGFdxA1RJ"
      },
      "execution_count": null,
      "outputs": []
    },
    {
      "cell_type": "code",
      "source": [],
      "metadata": {
        "id": "cAAfvz0CBC_b"
      },
      "execution_count": null,
      "outputs": []
    },
    {
      "cell_type": "markdown",
      "source": [
        "### Rejection Region Approach & Z-test Implementation"
      ],
      "metadata": {
        "id": "p1Qg6yEBBEDS"
      }
    },
    {
      "cell_type": "markdown",
      "source": [
        "**Question 1:**\n",
        "You are conducting a Z-test to determine whether the mean score of students in your class is significantly different from the national average. You have collected a sample of 30 student scores, and you know the population standard deviation is 10. Explain the Rejection Region Approach in the context of this test. Provide the formula for calculating the Z-score and describe how you would determine whether to reject the null hypothesis.\n",
        "\n",
        "**Question 2:**\n",
        "A pharmaceutical company is testing a new drug to reduce cholesterol levels in patients. They want to know if the new drug is more effective than the current medication. You have been given data on the cholesterol levels of 50 patients who took the new drug and 50 patients who took the current medication. Using a significance level of 0.05, perform a Z-test to determine if there is a significant difference in cholesterol reduction between the two groups. Show all the steps involved in the test, including setting up the null and alternate hypotheses, calculating the Z-score, and making a decision based on the Rejection Region Approach.\n",
        "\n",
        "**Question 3:**\n",
        "A car manufacturer claims that their new electric car model can travel an average of 250 miles on a single charge. To test this claim, a consumer group selects a random sample of 36 cars from the manufacturer's production line and records their mileage on a single charge. Using the Rejection Region Approach and a significance level of 0.01, conduct a Z-test to determine if there is enough evidence to support the manufacturer's claim. Provide the step-by-step process, including the formulation of hypotheses and the calculation of the Z-score.\n",
        "\n",
        "**Question 4:**\n",
        "A researcher is investigating whether there is a significant difference in the mean salary of employees with a master's degree and those with a bachelor's degree in a particular industry. A random sample of 100 employees with master's degrees and 100 employees with bachelor's degrees is collected. Using the Rejection Region Approach and a significance level of 0.05, perform a Z-test to determine if there is a significant difference in mean salaries between the two groups. Explain how you would set up the null and alternate hypotheses and interpret the results of the test."
      ],
      "metadata": {
        "id": "Yn8Q2etsCwoA"
      }
    },
    {
      "cell_type": "code",
      "source": [
        "Question 1: Let Null Hypothesis (H0): The mean score of the students in my class is equal to the national average.\n",
        "            Alternate Hypothesis (H1): The mean score of the students in my class is not equal to the national average.\n",
        "            Let the significance level be α = 0.05.\n",
        "            Calculate the Z-score for one tailed test:\n",
        "            z = (x̄ - μ) / (σ / √n)\n",
        "            Where:\n",
        "            x̄ is the sample mean,\n",
        "            μ is the population mean,\n",
        "            σ is the population standard deviation,\n",
        "            n is the sample size.\n",
        "\n",
        "            Once we get the Z-score, we can compare it with the critical value from the standard normal distribution table.\n",
        "            from where we can get the rejection region value.\n",
        "            If the calculated Z-score falls in the rejection region, we reject the null hypothesis and accept\n",
        "            the alternate hypothesis or else we accept the Null Hypothesis.\n"
      ],
      "metadata": {
        "id": "ftn5OzvxCGuh"
      },
      "execution_count": null,
      "outputs": []
    },
    {
      "cell_type": "code",
      "source": [
        "Question 2: Null Hypothesis (H0): The new drug is not more effective than the current medication.\n",
        "            Alternate Hypothesis (H1): The new drug is more effective than the current medication.\n",
        "\n",
        "            Let the significance level be α = 0.05.\n",
        "\n",
        "            Calculate the Z-score for one tailed test:\n",
        "            z = (x1 - x2) / sqrt((s1^2 / n1) + (s2^2 / n2))\n",
        "            Where:\n",
        "            x1 is the sample mean of the new drug,\n",
        "            x2 is the sample mean of the current medication,\n",
        "            s1 is the sample standard deviation of the new drug,\n",
        "            s2 is the sample standard deviation of the current medication,\n",
        "            n1 is the sample size of the new drug,\n",
        "            n2 is the sample size of the current medication.\n",
        "\n",
        "            Once we get the Z-score, we can compare it with the critical value from the standard normal distribution table.\n",
        "            from where we can get the rejection region value.\n",
        "\n",
        "            If the calculated Z-score falls in the rejection region, we reject the null hypothesis and accept\n",
        "            the alternate hypothesis or else we accept the Null Hypothesis.\n"
      ],
      "metadata": {
        "id": "1a-Zjj-nDK6U"
      },
      "execution_count": null,
      "outputs": []
    },
    {
      "cell_type": "code",
      "source": [
        "Question 3: Null Hypothesis (H0): The new electric car model can travel an average of 250 miles on a single charge.\n",
        "             H0: μ = 250\n",
        "            Alternate Hypothesis (H1): The new electric car model cannot travel an average of 250 miles on a single charge.\n",
        "            H1: μ ≠ 250\n",
        "\n",
        "            Let the significance level be α = 0.01.\n",
        "\n",
        "            Calculate the Z-score for one tailed test:\n",
        "            z = (x̄ - μ) / (σ / √n)\n",
        "            Where:\n",
        "            x̄ is the sample mean,\n",
        "            μ is the population mean,\n",
        "            σ is the population standard deviation,\n",
        "            n is the sample size.\n",
        "\n",
        "            Once we get the Z-score, we can compare it with the critical value from the standard normal distribution table.\n",
        "            from where we can get the rejection region value.\n",
        "\n",
        "            If the calculated Z-score falls in the rejection region, we reject the null hypothesis and accept\n",
        "            the alternate hypothesis or else we accept the Null Hypothesis.\n"
      ],
      "metadata": {
        "id": "ldysyDwNDK8M"
      },
      "execution_count": null,
      "outputs": []
    },
    {
      "cell_type": "code",
      "source": [
        "Question 4: Null Hypothesis (H0): There is no significant difference in the mean salary of employees with\n",
        "            a master's degree and those with a bachelor's degree in the industry.\n",
        "            H0: μ1 = μ2\n",
        "            Alternate Hypothesis (H1): There is a significant difference in the mean salary of employees with\n",
        "            a master's degree and those with a bachelor's degree in the industry.\n",
        "            H1: μ1 ≠ μ2\n",
        "            Let the significance level be α = 0.05\n",
        "\n",
        "            Calculate the Z-score for one tailed test:\n",
        "            z = (x1 - x2) / sqrt((s1^2 / n1) + (s2^2 / n2))\n",
        "            where:\n",
        "            x1 is the sample mean of employees with master's degrees,\n",
        "            x2 is the sample mean of employees with bachelor's degrees,\n",
        "            s1 is the sample standard deviation of employees with master's degrees,\n",
        "            s2 is the sample standard deviation of employees with bachelor's degrees,\n",
        "            n1 is the sample size of employees with master's degrees (n1=100),\n",
        "            n2 is the sample size of employees with bachelor's degrees (n2=100)\n",
        "\n",
        "            Once we get the Z-score, we can compare it with the critical value from the standard normal distribution table.\n",
        "            from where we can get the rejection region value.\n",
        "\n",
        "            If the calculated Z-score falls in the rejection region, we reject the null hypothesis and accept\n",
        "            the alternate hypothesis or else we accept the Null Hypothesis.\n",
        "\n"
      ],
      "metadata": {
        "id": "LbjEW3bLDK-Y"
      },
      "execution_count": null,
      "outputs": []
    },
    {
      "cell_type": "code",
      "source": [
        "in"
      ],
      "metadata": {
        "id": "NIL0-edIDLAo"
      },
      "execution_count": null,
      "outputs": []
    },
    {
      "cell_type": "markdown",
      "source": [
        "### Type 1 & Type 2 Errors"
      ],
      "metadata": {
        "id": "h_nDkhsNDL1F"
      }
    },
    {
      "cell_type": "markdown",
      "source": [
        "**Case Study 1: Medical Testing**\n",
        "\n",
        "**Scenario**:\n",
        "A medical company has developed a new diagnostic test for a rare disease. The test is highly sensitive, meaning it rarely misses true cases of the disease (low Type II error rate). However, the company is concerned about the Type I error rate, as false positives can lead to unnecessary stress and further testing for patients.\n",
        "\n",
        "**Assignment:**\n",
        "\n",
        "1. Describe the potential consequences of a Type I error in this medical testing scenario.\n",
        "2. Explain the potential consequences of a Type II error.\n",
        "3. Discuss the trade-off between Type I and Type II errors in medical testing and how it influences the decision on test thresholds."
      ],
      "metadata": {
        "id": "hOjnjj0oDuba"
      }
    },
    {
      "cell_type": "code",
      "source": [
        "1. A Type 1 error occurs when the test incorrectly indicating the presence of the disease(false positive). In the\n",
        "   medical field this could lead to many unwanted and unplesant situation for the patient, like the patient has to under go\n",
        "   unnecessary test or treatment even while the patient is not affected by the disease. This could lead to unnecessary stress\n",
        "   and financial burden on the patient. Ultimately leading to a situation of distrust being formed by the medical company.\n",
        "\n",
        "2. A Type 2 error occurs when the test incorrectly indicating the absence of the disease(false negative). In the\n",
        "   medical field this could lead to many complication and critical situation for the patient, which could have been avoided\n",
        "   in the initial stage of disease if only it was identified accurately. This could sometimes even lead to loss of life\n",
        "   due to delayed treatment. Incase the a patient is being affected with a dangerour communicable disease then this could\n",
        "   lead to a deteramental consequnece for the society as a whole.\n",
        "\n",
        "3. In medical testing, there is often a trade-off between Type 1 and Type 2 errors. Adjusting the test threshold can influence\n",
        "   the balance betweeen these error.\n",
        "   i.e., if we reduce the threshold for the a positive result can decrease the type 2 error rate but could potentially\n",
        "   increase the type 1 error rate. This ensure that none of the disease cases are missed.\n",
        "   but if we increase the threshold for the a positive result can decrease the type 1 error rate but could potentially\n",
        "   increase the type 2 error rate. This could reduce unnecessary medical test and medical treatment bills."
      ],
      "metadata": {
        "id": "ryb6enZJDtbu"
      },
      "execution_count": null,
      "outputs": []
    },
    {
      "cell_type": "code",
      "source": [],
      "metadata": {
        "id": "0nRmPbqND7ml"
      },
      "execution_count": null,
      "outputs": []
    },
    {
      "cell_type": "markdown",
      "source": [
        "**Case Study 2: Criminal Justice System**\n",
        "\n",
        "**Scenario:**\n",
        "In a criminal trial, the prosecution aims to convict a defendant based on evidence. The consequences of a wrongful conviction (Type I error) are severe, but so are the consequences of letting a guilty person go free (Type II error).\n",
        "\n",
        "**Assignment:**\n",
        "\n",
        "1. Describe a situation in the criminal justice system where a Type I error can occur and its implications.\n",
        "2. Provide an example of a situation where a Type II error can occur and its potential consequences.\n",
        "3. Discuss the challenges and ethical considerations in finding a balance between minimizing Type I and Type II errors in criminal trials."
      ],
      "metadata": {
        "id": "tfnLuuFTD9vi"
      }
    },
    {
      "cell_type": "code",
      "source": [
        "1. A Type 1 error(false positive) occurs when the innocent person is wrongly convicted. This could lead to many\n",
        "   consequences such as getting wrongfully imprisoned, lossing trust in the juditional system and having psychological impact.\n",
        "\n",
        "2. A Type 2 error(false negative) occurs when a guilty person is allowed to go free or is release from custody even after\n",
        "   commiting the crime. This action could lead many consequential implecations such as a major risk to public safety,\n",
        "   the injustice that would be felt by the victim and the loss of trust in the criminal justice system.\n",
        "\n",
        "3. The balance between minimizing Type 1 and Type 2 errors is crucial in criminal trials as it involves several challenges\n",
        "   and ethical consideration such as assuming the defendant is innocent until proven guilty help reduce the chance of\n",
        "   occurence of Type 1 errors, ensuring that both the rights of the accused and the interests of the society are protected\n",
        "   is a delicate balance."
      ],
      "metadata": {
        "id": "jiLiOftQErJU"
      },
      "execution_count": null,
      "outputs": []
    },
    {
      "cell_type": "code",
      "source": [],
      "metadata": {
        "id": "-BC1Q4LHEyj1"
      },
      "execution_count": null,
      "outputs": []
    },
    {
      "cell_type": "markdown",
      "source": [
        "**Case Study 3: Product Quality Control**\n",
        "\n",
        "**Scenario**:\n",
        "A manufacturing company uses a quality control process to ensure that its products meet specific standards. Rejecting a good product (Type I error) can be costly, while accepting a defective product (Type II error) can harm the company's reputation.\n",
        "\n",
        "**Assignment**:\n",
        "\n",
        "1. Describe a scenario in product quality control where a Type I error may occur and its financial implications.\n",
        "2. Provide an example of a situation where a Type II error can occur and its potential impact on the company's reputation.\n",
        "3. Discuss strategies that the company can implement to strike a balance between minimizing Type I and Type II errors in its quality control process."
      ],
      "metadata": {
        "id": "a-e7ZMn5Ey1G"
      }
    },
    {
      "cell_type": "code",
      "source": [
        "1. Type 1 error would usually occur wlen a good product gets rejected since it does not meet the product quality\n",
        "   specification. Lets assume a case of a semiconductor manufacturer. Here during the quality testing if a good quality\n",
        "   product gets rejected. This could lead to incuring unnecessary financial and material losses.\n",
        "\n",
        "2. Type 2 error could occcur when a defected product is accepted instead of getting rejected. This type of error not only\n",
        "   could be detremental to the entier machinary as a whole but also to the brand name and the good faith that the customer\n",
        "   would have in the company.\n",
        "\n",
        "3. The strategies that the company can implement to strike a balance between minimizing Type I and Type II errors in its\n",
        "   quality control process are as follows\n",
        "       Error caused due to machinaries: regular cablibration and maintainence of the testing machinaries needs to be\n",
        "         carried out in regular intervels.\n",
        "       Error caused due to Human negligence: A regular training has to be provided for the quality control personnel\n",
        "         to ensure that they are aware of the latest testing techniques and error mitigation strategies.\n"
      ],
      "metadata": {
        "id": "GLVhNd-jFC6V"
      },
      "execution_count": null,
      "outputs": []
    },
    {
      "cell_type": "code",
      "source": [],
      "metadata": {
        "id": "-nqzh2CnFEJq"
      },
      "execution_count": null,
      "outputs": []
    },
    {
      "cell_type": "markdown",
      "source": [
        "### P-value Approach & T-test Implementation"
      ],
      "metadata": {
        "id": "Ovd9bNBZFX4c"
      }
    },
    {
      "cell_type": "markdown",
      "source": [
        "**Case Study 1: Education**\n",
        "\n",
        "**Scenario**:\n",
        "A school district is implementing a new teaching method aimed at improving students' math scores. They want to know if the new method is effective. A random sample of 30 students who received the new instruction method is compared to a sample of 30 students who received the traditional method. The district wants to use a t-test to analyze the data.\n",
        "\n",
        "**Assignment:**\n",
        "\n",
        "1. Formulate the null and alternate hypotheses for this study.\n",
        "2. Perform a t-test using the collected data and calculate the t-statistic.\n",
        "3. Calculate the P-value and interpret its significance.\n",
        "Based on the P-value and a significance level of 0.05, make a decision regarding the null hypothesis."
      ],
      "metadata": {
        "id": "vpIQ8xAZFdN5"
      }
    },
    {
      "cell_type": "code",
      "source": [
        " 1. Null Hypothesis (H0): The new teaching method has no effect on students' math scores.\n",
        "    Alternate Hypothesis (H1): The new teaching method has a significant effect on students' math scores.\n",
        "\n",
        "    Let the significance level be α = 0.05.\n",
        "\n",
        "    Calculate the t-statistic for one tailed test:\n",
        "    t = (x1 - x2) / sqrt((s1^2 / n1) + (s2^2 / n2))\n",
        "    Where:\n",
        "    x1 is the sample mean of students who received the new instruction method,\n",
        "    x2 is the sample mean of students who received the traditional method,\n",
        "    s1 is the sample standard deviation of students who received the new instruction method,\n",
        "    s2 is the sample standard deviation of students who received the traditional method,\n",
        "    n1 is the sample size of students who received the new instruction method (n1=30),\n",
        "    n2 is the sample size of students who received the traditional method (n2=30)\n",
        "\n",
        "    For calculating the P-value, we can use a t-distribution table.\n",
        "    To find p-value , we would need to compare the calculated t-statistic with the\n",
        "    critical value from the t-distribution table.\n",
        "\n",
        "    Once we get the t-statistic, we can compare it with the critical value from the t-distribution table.\n",
        "    from where we can get the rejection region value.\n",
        "\n",
        "    If the calculated t-statistic falls in the rejection region, we reject the null hypothesis and accept\n",
        "    the alternate hypothesis or else we accept the Null Hypothesis.\n"
      ],
      "metadata": {
        "id": "juS5rJ3YFb1r"
      },
      "execution_count": null,
      "outputs": []
    },
    {
      "cell_type": "code",
      "source": [],
      "metadata": {
        "id": "54wqJc85GUij"
      },
      "execution_count": null,
      "outputs": []
    },
    {
      "cell_type": "code",
      "source": [],
      "metadata": {
        "id": "dDVCqb2RGU8g"
      },
      "execution_count": null,
      "outputs": []
    },
    {
      "cell_type": "markdown",
      "source": [
        "**Case Study 2: Baseball Player Performance**\n",
        "\n",
        "**Scenario**:\n",
        "You are a data analyst for a professional baseball team. The team's management wants to assess whether a new training program has led to a significant improvement in the batting averages of their players. You have collected batting average data for two groups of players: one group who underwent the new training program (Group A) and another group who did not (Group B).\n",
        "\n",
        "**Data**:\n",
        "\n",
        "**Group A** (New Training Program):\n",
        "\n",
        "Sample Size: 25 players,\n",
        "Mean Batting Average: 0.285,\n",
        "Sample Standard Deviation: 0.040.\n",
        "\n",
        "**Group B** (No Training Program):\n",
        "\n",
        "Sample Size: 30 players,\n",
        "Mean Batting Average: 0.270,\n",
        "Sample Standard Deviation: 0.045.\n",
        "\n",
        "**Assignment:**\n",
        "\n",
        "1. Formulate the null and alternate hypotheses to test whether the new training program has led to a significant improvement in batting averages.\n",
        "2. Conduct a two-sample t-test using the provided data. Calculate the t-statistic.\n",
        "3. Calculate the degrees of freedom for the test.\n",
        "4. Calculate the p-value associated with the test.\n",
        "5. Interpret the results and make a recommendation to the team's management based on the p-value approach."
      ],
      "metadata": {
        "id": "dpeE6GzTGVtT"
      }
    },
    {
      "cell_type": "code",
      "source": [
        "Null Hypothesis (H0): The new training program has no effect on the batting average of the players.\n",
        "   H0: μ1 = μ2\n",
        "Alternate Hypothesis (H1): The new training program has a significant effect on the batting average of the players.\n",
        "   H1: μ1 ≠ μ2\n",
        "\n",
        "   Let the significance level be α = 0.05\n",
        "\n",
        "   Calculate the t-statistic for two tailed test:\n",
        "   t = (x1 - x2) / sqrt((s1^2 / n1) + (s2^2 / n2))\n",
        "\n",
        "    Where:\n",
        "    x1 is the sample mean of students who received the new instruction method,(0.285),\n",
        "    x2 is the sample mean of students who received the traditional method,(0.270),\n",
        "    s1 is the sample standard deviation of students who received the new instruction method (0.04),\n",
        "    s2 is the sample standard deviation of students who received the traditional method (0.05),\n",
        "    n1 is the sample size of students who received the new instruction method (n1=25),\n",
        "    n2 is the sample size of students who received the traditional method (n2=30)\n",
        "\n",
        "   t= (0.285 - 0.270) / sqrt((0.040^2 / 25) + (0.045^2 / 30))\n",
        "   t= 1.30\n",
        "\n",
        "   calculate the degrees of freedom for the test:\n",
        "   degree of freedom(df) for the two tailed sample t-test is given by:\n",
        "   df = ((s1^2/n1 + s2^2/n2)^2) / ( (s1^4/(n1^2*(n1-1))) + (s2^4/(n2^2*(n2-1))) )\n",
        "   df= ((0.040^2/25 + 0.045^2/30)^2) / ( (0.040^4/(25^2*(25-1))) + (0.045^4/(30^2*(30-1))) )\n",
        "   df= 15.5\n",
        "\n",
        "   Calculate the p-value associated with the test.\n",
        "   For calculating the P-value, we can use a t-distribution table.\n",
        "   To find p-value , we would need to compare the calculated t-statistic with the\n",
        "   critical value from the t-distribution table.\n",
        "   We get the p-value as 0.196\n",
        "   Since the p-value is greater than Significance level(0.05), we accept the null hypothesis.\n",
        "    and reject the alternate hypothesis.\n"
      ],
      "metadata": {
        "id": "U0J3dfB8HT9P"
      },
      "execution_count": null,
      "outputs": []
    },
    {
      "cell_type": "code",
      "source": [],
      "metadata": {
        "id": "mh8cRgVzHUx3"
      },
      "execution_count": null,
      "outputs": []
    },
    {
      "cell_type": "code",
      "source": [],
      "metadata": {
        "id": "2_-_t6d_HUmO"
      },
      "execution_count": null,
      "outputs": []
    },
    {
      "cell_type": "code",
      "source": [
        "from scipy import stats\n",
        "\n",
        "# Group A data\n",
        "n1 = 25\n",
        "mean1 = 0.285\n",
        "std1 = 0.040\n",
        "\n",
        "# Group B data\n",
        "n2 = 30\n",
        "mean2 = 0.270\n",
        "std2 = 0.045\n",
        "\n",
        "# Perform the t-test\n",
        "t_statistic, p_value = stats.ttest_ind_from_stats(mean1, std1, n1, mean2, std2, n2, equal_var=False)\n",
        "\n",
        "print(\"T-statistic:\", t_statistic)\n",
        "print(\"P-value:\", p_value)\n",
        "\n",
        "df = ((std1**2/n1 + std2**2/n2)**2) / ( (std1**4/(n1**2*(n1-1))) + (std2**4/(n2**2*(n2-1))) )\n",
        "print(\"Degrees of Freedom:\", df)\n"
      ],
      "metadata": {
        "id": "wsHItEvtHVUq",
        "colab": {
          "base_uri": "https://localhost:8080/"
        },
        "outputId": "e4799d1c-0e41-471d-c5ab-56db01abc5b2"
      },
      "execution_count": 1,
      "outputs": [
        {
          "output_type": "stream",
          "name": "stdout",
          "text": [
            "T-statistic: 1.3080621605908382\n",
            "P-value: 0.19652324150043393\n",
            "Degrees of Freedom: 52.755862782399824\n"
          ]
        }
      ]
    }
  ]
}